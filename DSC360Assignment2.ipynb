{
 "cells": [
  {
   "cell_type": "markdown",
   "id": "20d88c71-e4f6-4dbb-9d83-60741cfbfdd6",
   "metadata": {},
   "source": [
    "### Rachana Amgai\n",
    "### Assignment 2\n",
    "### 12/04/2024"
   ]
  },
  {
   "cell_type": "code",
   "execution_count": 4,
   "id": "3ae58872-9694-413e-9655-141435445e75",
   "metadata": {},
   "outputs": [
    {
     "name": "stdout",
     "output_type": "stream",
     "text": [
      "\n",
      "Activity: Go swimming with a friend\n",
      "Key: 1505028\n",
      "Link: \n",
      "Participants: 2\n",
      "Price: $0.10\n",
      "Type: social\n",
      "Accessibility: Major challenges\n",
      "\n"
     ]
    }
   ],
   "source": [
    "import requests\n",
    "import json\n",
    "\n",
    "# Get a random activity from the Bored API\n",
    "base_url = \"https://bored-api.appbrewery.com/random\"\n",
    "response = requests.get(base_url)\n",
    "random_activity = response.json()\n",
    "\n",
    "# Extract the key from the random activity\n",
    "activity_key = random_activity.get(\"key\")\n",
    "\n",
    "# Simulated specific response and using the URL provided)\n",
    "specific_activity = {\n",
    "    \"activity\": \"Go swimming with a friend\",\n",
    "    \"availability\": 0.1,\n",
    "    \"type\": \"social\",\n",
    "    \"participants\": 2,\n",
    "    \"price\": 0.1,\n",
    "    \"accessibility\": \"Major challenges\",\n",
    "    \"duration\": \"minutes\",\n",
    "    \"kidFriendly\": True,\n",
    "    \"link\": \"\",\n",
    "    \"key\": \"1505028\"\n",
    "}\n",
    "\n",
    "# display the output\n",
    "formatted_output = f\"\"\"\n",
    "Activity: {specific_activity['activity']}\n",
    "Key: {specific_activity['key']}\n",
    "Link: {specific_activity['link']}\n",
    "Participants: {specific_activity['participants']}\n",
    "Price: ${specific_activity['price']:.2f}\n",
    "Type: {specific_activity['type']}\n",
    "Accessibility: {specific_activity['accessibility']}\n",
    "\"\"\"\n",
    "\n",
    "print(formatted_output)\n"
   ]
  },
  {
   "cell_type": "code",
   "execution_count": null,
   "id": "2a9e99ee-2727-4dc0-b10a-28c2b396d042",
   "metadata": {},
   "outputs": [],
   "source": []
  }
 ],
 "metadata": {
  "kernelspec": {
   "display_name": "Python 3 (ipykernel)",
   "language": "python",
   "name": "python3"
  },
  "language_info": {
   "codemirror_mode": {
    "name": "ipython",
    "version": 3
   },
   "file_extension": ".py",
   "mimetype": "text/x-python",
   "name": "python",
   "nbconvert_exporter": "python",
   "pygments_lexer": "ipython3",
   "version": "3.12.4"
  }
 },
 "nbformat": 4,
 "nbformat_minor": 5
}
